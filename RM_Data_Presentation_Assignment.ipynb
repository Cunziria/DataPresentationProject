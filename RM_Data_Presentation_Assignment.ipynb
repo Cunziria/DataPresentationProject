{
  "nbformat": 4,
  "nbformat_minor": 0,
  "metadata": {
    "colab": {
      "name": "RM - Data Presentation Assignment",
      "provenance": [],
      "collapsed_sections": [],
      "toc_visible": true
    },
    "kernelspec": {
      "display_name": "Python 3",
      "name": "python3"
    }
  },
  "cells": [
    {
      "cell_type": "markdown",
      "metadata": {
        "id": "lab1NtEAuOCr"
      },
      "source": [
        "#Data presentation project"
      ]
    },
    {
      "cell_type": "markdown",
      "metadata": {
        "id": "ltHobVP3FZnv"
      },
      "source": [
        "John Holden and Rebecca Ding\n",
        "\n",
        "December 2020"
      ]
    },
    {
      "cell_type": "markdown",
      "metadata": {
        "id": "qfXwgfm9uqd7"
      },
      "source": [
        "## Introduction"
      ]
    },
    {
      "cell_type": "markdown",
      "metadata": {
        "id": "pYmKYvylFejy"
      },
      "source": [
        "In this project we conduct initial analysis of a simple *insurance* dataset, comparing the contract sum paid for insurance against applicant characteristics and insurance type."
      ]
    },
    {
      "cell_type": "markdown",
      "metadata": {
        "id": "bFgCqyVHuq2Y"
      },
      "source": [
        "## Application background"
      ]
    },
    {
      "cell_type": "markdown",
      "metadata": {
        "id": "apcVmBePR9Kh"
      },
      "source": [
        "The dataset we will be looking at in this report is **insurance contract data**.\n",
        "\n",
        "Insurance as an industry is a method of spreading risk. For one individual (or one company), there are some risky events that would cause great loss for the individual. For example, if an employed person crashed their car, they might not be able to afford repairs or replacement, and therefore be left without a car, with potential knock-on effects for their job and personal life.\n",
        "\n",
        "Insurance is a method of spreading risk across a large pool of people: instead of one individual facing, say, a 1% yearly risk of huge loss, 1000 people can all pay into a fund that will pay for repairs or replacement. The probability that *somebody* in the 1000 will require the insurance is almost certain, but now their loss is small. For each individual, insurance converts the small risk of huge loss into a certainty of small loss (the insurance fee). The reduced uncertainty and limited losses encourages people to seek insurance. Competition between insurers should keep insurance premiums low.\n",
        "\n",
        "Third-party car insurance is in fact mandatory in UK law, but this analysis still holds, and explains how insurance markets arise where there is no legal obligation. For the purpose of this project we do not need to discuss further questions about how insurance markets continue under the pressures of moral hazard and adverse selection.\n",
        "\n",
        "A typical insurance policy has relatively standard coverage, but charges consumers different prices according to their risk. For example, health insurance on the free market is much more expensive for an elderly person than a fit young person, because the elderly person faces higher risks - the insurance company is more likely to pay out high sums.\n",
        "\n",
        "Our dataset has variables for **product**, **region**, **profession**, **age**, **first rate paid**, and then **contract sum** and **closing date**. **Product** is different types of insurance, so we would expect different prices. **Region**, **profession** and **age** can all proxy for risk in different circumstances, so we would expect to be related to price as well. This is unlikely to be a simple relationship: 18-20 year olds are notoriously risky drivers, for example, so we would expect car insurance prices to be higher - but this might not be the same relationship for life insurance.\n",
        "\n",
        "Setting appropriate prices for different people is a complicated and difficult question, well suited to data science.\n",
        "\n",
        "\n",
        "\n"
      ]
    },
    {
      "cell_type": "markdown",
      "metadata": {
        "id": "CaF3iiYmvGPS"
      },
      "source": [
        "## Data exploration: descriptive statistics"
      ]
    },
    {
      "cell_type": "code",
      "metadata": {
        "colab": {
          "base_uri": "https://localhost:8080/"
        },
        "id": "m7bM718Ib6dM",
        "outputId": "b50d9107-9208-47de-8d29-f338432e9e1b"
      },
      "source": [
        "from google.colab import drive\n",
        "drive.mount('/content/drive')"
      ],
      "execution_count": 1,
      "outputs": [
        {
          "output_type": "stream",
          "text": [
            "Mounted at /content/drive\n"
          ],
          "name": "stdout"
        }
      ]
    },
    {
      "cell_type": "code",
      "metadata": {
        "id": "EcYotsmvffSj"
      },
      "source": [
        "# Import modules and setup\n",
        "import pandas as pd\n",
        "import numpy as np\n",
        "import matplotlib.pyplot as plt\n",
        "from pandas_profiling import ProfileReport\n",
        "import seaborn as sns\n",
        "\n",
        "pd.set_option('display.max_columns', None)\n",
        "pd.set_option('display.max_rows', None)\n",
        "\n",
        "%matplotlib inline"
      ],
      "execution_count": 2,
      "outputs": []
    },
    {
      "cell_type": "code",
      "metadata": {
        "id": "rJcuwK_mfVr9"
      },
      "source": [
        "# Read dataset\n",
        "insurance = pd.read_csv(\"/content/drive/MyDrive/data/Insurance.csv\")\n",
        "df = insurance\n"
      ],
      "execution_count": 3,
      "outputs": []
    },
    {
      "cell_type": "code",
      "metadata": {
        "colab": {
          "base_uri": "https://localhost:8080/"
        },
        "id": "gorEA03-mGUc",
        "outputId": "2045d1c5-8962-4be7-ff82-a7e2a583af4b"
      },
      "source": [
        "# Initial exploration\n",
        "print(df.info())\n",
        "print(df.isna().sum())\n",
        "print(df.head())"
      ],
      "execution_count": 4,
      "outputs": [
        {
          "output_type": "stream",
          "text": [
            "<class 'pandas.core.frame.DataFrame'>\n",
            "RangeIndex: 14845 entries, 0 to 14844\n",
            "Data columns (total 8 columns):\n",
            " #   Column           Non-Null Count  Dtype \n",
            "---  ------           --------------  ----- \n",
            " 0   ID               14845 non-null  int64 \n",
            " 1   Product          14845 non-null  object\n",
            " 2   Region           14845 non-null  int64 \n",
            " 3   Profession       14845 non-null  object\n",
            " 4   Age              14845 non-null  int64 \n",
            " 5   First Rate Paid  14845 non-null  object\n",
            " 6   Contract sum     14845 non-null  object\n",
            " 7   Closing Date     14845 non-null  object\n",
            "dtypes: int64(3), object(5)\n",
            "memory usage: 927.9+ KB\n",
            "None\n",
            "ID                 0\n",
            "Product            0\n",
            "Region             0\n",
            "Profession         0\n",
            "Age                0\n",
            "First Rate Paid    0\n",
            "Contract sum       0\n",
            "Closing Date       0\n",
            "dtype: int64\n",
            "   ID Product  Region     Profession  Age First Rate Paid Contract sum  \\\n",
            "0   1    Life     150       Employee   26               Y       25,000   \n",
            "1   2    Life     150         Farmer   31               N      150,000   \n",
            "2   3    Life     150         Farmer   33               Y       15,000   \n",
            "3   4    Life     150         Farmer   33               Y       30,000   \n",
            "4   5    Life     120  Self-employed   34               Y       15,000   \n",
            "\n",
            "  Closing Date  \n",
            "0       Jul-90  \n",
            "1       Jul-90  \n",
            "2       Jul-90  \n",
            "3       Jul-90  \n",
            "4       Jul-90  \n"
          ],
          "name": "stdout"
        }
      ]
    },
    {
      "cell_type": "code",
      "metadata": {
        "colab": {
          "base_uri": "https://localhost:8080/"
        },
        "id": "ipMBdNw3ddwu",
        "outputId": "6f3c8960-a84f-46fa-a7d0-2f02501ace91"
      },
      "source": [
        "df['ID'].nunique()"
      ],
      "execution_count": 5,
      "outputs": [
        {
          "output_type": "execute_result",
          "data": {
            "text/plain": [
              "14845"
            ]
          },
          "metadata": {
            "tags": []
          },
          "execution_count": 5
        }
      ]
    },
    {
      "cell_type": "markdown",
      "metadata": {
        "id": "gIKo5XWdm5sL"
      },
      "source": [
        "There are 8 variables, where Product, Profession, First Rate Paid, Contract sum and Closing date are objects.\n",
        "\n",
        "There is no missing data across all variables.\n",
        "\n",
        "We now transform First Rate Paid, Contract sum and Closing date, and then examine the data again.\n",
        "\n"
      ]
    },
    {
      "cell_type": "code",
      "metadata": {
        "colab": {
          "base_uri": "https://localhost:8080/"
        },
        "id": "EDTcOrY7r3EO",
        "outputId": "eeb62fad-3988-48a9-ee72-12f0b73e5d58"
      },
      "source": [
        "# Data cleaning\n",
        "df['Contract sum'] = df['Contract sum'].replace(',','', regex=True)\n",
        "df['Contract sum'] = df['Contract sum'].astype(int)\n",
        "df['First Rate Paid'] = df['First Rate Paid'].replace('Y','1', regex=True)\n",
        "df['First Rate Paid'] = df['First Rate Paid'].replace('N','0', regex=True)\n",
        "df['Closing Date'] = pd.to_datetime(df['Closing Date'])\n",
        "df['Closing Date'] = df['Closing Date'].dt.strftime('%m-%Y')\n",
        "\n",
        "print(df.info())\n",
        "print(df.head())\n",
        "print(df.describe())"
      ],
      "execution_count": 6,
      "outputs": [
        {
          "output_type": "stream",
          "text": [
            "<class 'pandas.core.frame.DataFrame'>\n",
            "RangeIndex: 14845 entries, 0 to 14844\n",
            "Data columns (total 8 columns):\n",
            " #   Column           Non-Null Count  Dtype \n",
            "---  ------           --------------  ----- \n",
            " 0   ID               14845 non-null  int64 \n",
            " 1   Product          14845 non-null  object\n",
            " 2   Region           14845 non-null  int64 \n",
            " 3   Profession       14845 non-null  object\n",
            " 4   Age              14845 non-null  int64 \n",
            " 5   First Rate Paid  14845 non-null  object\n",
            " 6   Contract sum     14845 non-null  int64 \n",
            " 7   Closing Date     14845 non-null  object\n",
            "dtypes: int64(4), object(4)\n",
            "memory usage: 927.9+ KB\n",
            "None\n",
            "   ID Product  Region     Profession  Age First Rate Paid  Contract sum  \\\n",
            "0   1    Life     150       Employee   26               1         25000   \n",
            "1   2    Life     150         Farmer   31               0        150000   \n",
            "2   3    Life     150         Farmer   33               1         15000   \n",
            "3   4    Life     150         Farmer   33               1         30000   \n",
            "4   5    Life     120  Self-employed   34               1         15000   \n",
            "\n",
            "  Closing Date  \n",
            "0      07-1990  \n",
            "1      07-1990  \n",
            "2      07-1990  \n",
            "3      07-1990  \n",
            "4      07-1990  \n",
            "                 ID        Region           Age   Contract sum\n",
            "count  14845.000000  14845.000000  14845.000000   14845.000000\n",
            "mean    7423.000000    162.601213     44.952038   29002.492422\n",
            "std     4285.526708     96.578090     14.653006   25968.376323\n",
            "min        1.000000    120.000000      1.000000    1000.000000\n",
            "25%     3712.000000    150.000000     34.000000   15000.000000\n",
            "50%     7423.000000    150.000000     45.000000   20000.000000\n",
            "75%    11134.000000    150.000000     57.000000   33000.000000\n",
            "max    14845.000000    999.000000     95.000000  425000.000000\n"
          ],
          "name": "stdout"
        }
      ]
    },
    {
      "cell_type": "code",
      "metadata": {
        "colab": {
          "base_uri": "https://localhost:8080/"
        },
        "id": "DDn88BCebIk_",
        "outputId": "d328b173-c6eb-4220-a460-f3fa1e4b1514"
      },
      "source": [
        "df['Profession'].value_counts(normalize=True)"
      ],
      "execution_count": 7,
      "outputs": [
        {
          "output_type": "execute_result",
          "data": {
            "text/plain": [
              "Employee             0.378444\n",
              "Farmer               0.249444\n",
              "Student              0.172516\n",
              "Civil servant        0.138094\n",
              "Executive emplyee    0.039003\n",
              "Pupil                0.012799\n",
              "Worker               0.008353\n",
              "Self-employed        0.001347\n",
              "Name: Profession, dtype: float64"
            ]
          },
          "metadata": {
            "tags": []
          },
          "execution_count": 7
        }
      ]
    },
    {
      "cell_type": "code",
      "metadata": {
        "colab": {
          "base_uri": "https://localhost:8080/"
        },
        "id": "M7QBEPyQRxa0",
        "outputId": "f197ae43-17fe-4570-fba1-7110be961763"
      },
      "source": [
        "df.groupby('Product')['Profession'].value_counts(normalize=True)"
      ],
      "execution_count": 8,
      "outputs": [
        {
          "output_type": "execute_result",
          "data": {
            "text/plain": [
              "Product    Profession       \n",
              "Car        Employee             0.418351\n",
              "           Farmer               0.265941\n",
              "           Student              0.186625\n",
              "           Civil servant        0.088958\n",
              "           Executive emplyee    0.021462\n",
              "           Pupil                0.010886\n",
              "           Worker               0.006532\n",
              "           Self-employed        0.001244\n",
              "Health     Employee             0.337129\n",
              "           Student              0.294640\n",
              "           Civil servant        0.188003\n",
              "           Farmer               0.160511\n",
              "           Executive emplyee    0.008886\n",
              "           Pupil                0.005276\n",
              "           Worker               0.004999\n",
              "           Self-employed        0.000555\n",
              "Household  Employee             0.364592\n",
              "           Farmer               0.256792\n",
              "           Civil servant        0.217353\n",
              "           Student              0.083260\n",
              "           Executive emplyee    0.057844\n",
              "           Pupil                0.009641\n",
              "           Worker               0.009641\n",
              "           Self-employed        0.000876\n",
              "Life       Employee             0.383711\n",
              "           Farmer               0.287021\n",
              "           Civil servant        0.121806\n",
              "           Student              0.116870\n",
              "           Executive emplyee    0.059814\n",
              "           Pupil                0.018148\n",
              "           Worker               0.010743\n",
              "           Self-employed        0.001887\n",
              "Name: Profession, dtype: float64"
            ]
          },
          "metadata": {
            "tags": []
          },
          "execution_count": 8
        }
      ]
    },
    {
      "cell_type": "markdown",
      "metadata": {
        "id": "0t8hgPWRRysZ"
      },
      "source": [
        "In the dataset, the majority of insurance holders are employees (about 38%), \n",
        "following by farmers (about 25%).\n",
        "\n",
        "For car insurance, the distribution across professions almost mirrors the overall dataset distribution of professions.\n",
        "\n",
        "For health insurance, farmers are underrepresented compared to employees, students and civil servants. For household insurance and life insurance, students are underrepresented. This makes sense intuitively as students tend to be less engaged with these types of products.\n",
        " "
      ]
    },
    {
      "cell_type": "code",
      "metadata": {
        "colab": {
          "base_uri": "https://localhost:8080/"
        },
        "id": "Dt8iiZc4vVzM",
        "outputId": "78b9bd59-be27-4f15-e6ab-f3718c8ea512"
      },
      "source": [
        "# Derive new categorical variable, of age\n",
        "age_conditions = [(df['Age'] <= 24), (25 <= df['Age']) & (df['Age'] <= 55), (df['Age'] >= 56)]\n",
        "age_categories = ['young', 'adult', 'elder']\n",
        "df['Age_cat'] = np.select(age_conditions, age_categories, default = np.nan)\n",
        "\n",
        "df['Age_cat'].value_counts(normalize=True)"
      ],
      "execution_count": 9,
      "outputs": [
        {
          "output_type": "execute_result",
          "data": {
            "text/plain": [
              "adult    0.636713\n",
              "elder    0.278680\n",
              "young    0.084608\n",
              "Name: Age_cat, dtype: float64"
            ]
          },
          "metadata": {
            "tags": []
          },
          "execution_count": 9
        }
      ]
    },
    {
      "cell_type": "code",
      "metadata": {
        "colab": {
          "base_uri": "https://localhost:8080/"
        },
        "id": "_-_JOrkNjxeM",
        "outputId": "4c790914-d160-4315-808c-2152d33da7da"
      },
      "source": [
        "df.groupby('Product')['Age_cat'].value_counts(normalize=True)"
      ],
      "execution_count": 10,
      "outputs": [
        {
          "output_type": "execute_result",
          "data": {
            "text/plain": [
              "Product    Age_cat\n",
              "Car        adult      0.658476\n",
              "           elder      0.228927\n",
              "           young      0.112597\n",
              "Health     adult      0.474313\n",
              "           elder      0.330464\n",
              "           young      0.195224\n",
              "Household  adult      0.588957\n",
              "           elder      0.396144\n",
              "           young      0.014899\n",
              "Life       adult      0.719367\n",
              "           elder      0.255372\n",
              "           young      0.025261\n",
              "Name: Age_cat, dtype: float64"
            ]
          },
          "metadata": {
            "tags": []
          },
          "execution_count": 10
        }
      ]
    },
    {
      "cell_type": "markdown",
      "metadata": {
        "id": "0YsSa-wBQe7w"
      },
      "source": [
        "We have generated a **derived variable**, of age category. This converts the continuous ages into a categorical variable. \n",
        "\n",
        "By grouping people by their age brackets, we can see clearly how different age groups hold different products. For example, for this insurance company, very few young people hold life insurance. This is consistent with our results above, where we saw that few students, who tend to be young, hold life insurance. Similarly, elders are more likely to engage with household insurance while the young are less likely to be interested in household insurance.\n",
        "\n",
        "Health insurance stands out as the only category where less than half of policies are held by 'adults'. Many are also held by elders and by the young.\n",
        " "
      ]
    },
    {
      "cell_type": "markdown",
      "metadata": {
        "id": "YpsoOc4QuOU6"
      },
      "source": [
        "## Data quality assessment"
      ]
    },
    {
      "cell_type": "markdown",
      "metadata": {
        "id": "SMmsBEyH7w8D"
      },
      "source": [
        "After exploring the data, we can assess the data quality.\n",
        "\n",
        "Accuracy (by measurements): \n",
        "- The data should be accurate because all attributes can be verified, and are not measurements that require estimation.\n",
        "- *Profession type* is the only attribute that requires some interpretation, especially if it is entered by customers without guidance. For example, people may have different interpretations of \"student\" and \"pupil\".\n",
        "- We also note that \"regions\" have codes rather than names, with no guidance in the source spreadsheet. Presumably these regions were chosen by name when the data was inputted, and have since been converted into codes. In this case there is no reason to doubt their accuracy.\n",
        "\n",
        "Correctness (by entry):\n",
        "- It is hard to assess the correctness by entry when we were not involved in the data collection and quality assurance stages.\n",
        "- Some typos exit in the dataset. For example, profession type \"Executive emplyee\" misses a letter \"o\".\n",
        "\n",
        "Completeness (missing values):\n",
        "- The data do not contain any missing values.\n",
        "\n",
        "Consistency (validity and integrity):\n",
        "- The data look relatively consistent.\n",
        "- Some transformation was done to prepare the data for further manipulation and analysis.\n",
        "\n",
        "Redundancy (unnecessary redundancy):\n",
        "- ID has 14845 unique entries, which matches the number of entries of the dataset. If each ID truly represents a unique insurance holder, there is no redundancy in this specific dataset.\n",
        "- It is unknown whether the dataset is stored on replication servers.\n",
        "\n",
        "Timeliness:\n",
        "- The closing date of the insurance ranges from 1990 to 1996. Implications drawing from this dataset may not be applicable for current and future business needs or decisions.\n",
        "\n",
        "Relevance:\n",
        "- The data have included a few applicant characteristics and insurance types, which are relevant to studying the determinants or contributors to the prices of contracts. However, at this level of analysis it is hard to make sense the relationship between some attributes and the prices of contracts (e.g. between Region and Contract sum).\n",
        "- The dataset provides only a limited number of attributes. Additional applicant features might help with the research, which should not be excluded at such an early stage. \n",
        "- We can compare the differences in pricing practices between different insurance products. However, for each insurance product, the attributes needed might be different for building relevant pricing models. For example, health insurance would demand health details of applicants, while car insurance would require the driving history of the applicants. Neither is present in the dataset.\n",
        "\n",
        "Sampling bias:\n",
        "- The dataset is unbalanced across a few dimensions, as it leans heavily towards certain product types, regions and professions.\n",
        "\n",
        "Knowledge on data:\n",
        "- The data dictionary does not provide sufficient explanation of the attributes, which makes further interpretation and examination harder."
      ]
    },
    {
      "cell_type": "markdown",
      "metadata": {
        "id": "8PSIbaPiu8Jr"
      },
      "source": [
        "## Data visualisation"
      ]
    },
    {
      "cell_type": "markdown",
      "metadata": {
        "id": "V6keBU5XbeAO"
      },
      "source": [
        "### Categorical variables"
      ]
    },
    {
      "cell_type": "markdown",
      "metadata": {
        "id": "l4zJ12nmt2ld"
      },
      "source": [
        "We begin with the 3 **unordered categorical variables**: *product*, *region* and *profession*.\n",
        "\n",
        "We visualise these with a *bar chart*, where the height (and area) of each bar represents the count of values. This is an appropriate way of visualising categorical data, as it makes clear that each bar is separate, not a connected series. An alternative is to use a pie chart, which can make it clearer immediately that we are looking at proportions, but has the disadvantage that it is difficult to judge angles with the human eye. Bar charts make it immediately obvious which bars are higher and, therefore, which values are more common."
      ]
    },
    {
      "cell_type": "code",
      "metadata": {
        "id": "eyhO71GFvfgZ"
      },
      "source": [
        "# Set up categorical variables\n",
        "df['Product'] = pd.Categorical(df.Product)\n",
        "df['Region'] = pd.Categorical(df.Region)\n",
        "df['Profession'] = pd.Categorical(df.Profession)"
      ],
      "execution_count": 11,
      "outputs": []
    },
    {
      "cell_type": "code",
      "metadata": {
        "colab": {
          "base_uri": "https://localhost:8080/",
          "height": 325
        },
        "id": "4wfSxts81PYl",
        "outputId": "80538456-7958-4436-cfbb-c2d0fa2e025a"
      },
      "source": [
        "# Insurance product\n",
        "df['Product'].value_counts().plot(kind='bar')"
      ],
      "execution_count": 12,
      "outputs": [
        {
          "output_type": "execute_result",
          "data": {
            "text/plain": [
              "<matplotlib.axes._subplots.AxesSubplot at 0x7fa753d1cfd0>"
            ]
          },
          "metadata": {
            "tags": []
          },
          "execution_count": 12
        },
        {
          "output_type": "display_data",
          "data": {
            "image/png": "[encoded data removed]",
            "text/plain": [
              "<Figure size 432x288 with 1 Axes>"
            ]
          },
          "metadata": {
            "tags": [],
            "needs_background": "light"
          }
        }
      ]
    },
    {
      "cell_type": "markdown",
      "metadata": {
        "id": "6j5LxFPQZt0O"
      },
      "source": [
        "The most common types of insurance in the dataset is life, followed by health and car, and a relatively small number of household insurance products."
      ]
    },
    {
      "cell_type": "code",
      "metadata": {
        "colab": {
          "base_uri": "https://localhost:8080/",
          "height": 291
        },
        "id": "4qa2hhAoYSiG",
        "outputId": "51572c49-3bb0-46c1-ed03-c8996d3bf62d"
      },
      "source": [
        "# Region\n",
        "df['Region'].value_counts().plot(kind='bar')"
      ],
      "execution_count": 13,
      "outputs": [
        {
          "output_type": "execute_result",
          "data": {
            "text/plain": [
              "<matplotlib.axes._subplots.AxesSubplot at 0x7fa753c6eb70>"
            ]
          },
          "metadata": {
            "tags": []
          },
          "execution_count": 13
        },
        {
          "output_type": "display_data",
          "data": {
            "image/png": "[encoded data removed]",
            "text/plain": [
              "<Figure size 432x288 with 1 Axes>"
            ]
          },
          "metadata": {
            "tags": [],
            "needs_background": "light"
          }
        }
      ]
    },
    {
      "cell_type": "markdown",
      "metadata": {
        "id": "yMzTg9zUZ4xf"
      },
      "source": [
        "The regions are difficult to interpret without knowing which number corresponds to which place name (domain knowledge). Region 150 is by far the most common, followed distantly by 160. There are only a small number of 999, 130 and 120."
      ]
    },
    {
      "cell_type": "code",
      "metadata": {
        "colab": {
          "base_uri": "https://localhost:8080/",
          "height": 367
        },
        "id": "u-ORV0ZcYSYQ",
        "outputId": "1ac59921-13a3-4ec1-d577-ab47989616bc"
      },
      "source": [
        "# Profession\n",
        "df['Profession'].value_counts().plot(kind='bar')"
      ],
      "execution_count": 14,
      "outputs": [
        {
          "output_type": "execute_result",
          "data": {
            "text/plain": [
              "<matplotlib.axes._subplots.AxesSubplot at 0x7fa7537a02e8>"
            ]
          },
          "metadata": {
            "tags": []
          },
          "execution_count": 14
        },
        {
          "output_type": "display_data",
          "data": {
            "image/png": "[encoded data removed]",
            "text/plain": [
              "<Figure size 432x288 with 1 Axes>"
            ]
          },
          "metadata": {
            "tags": [],
            "needs_background": "light"
          }
        }
      ]
    },
    {
      "cell_type": "markdown",
      "metadata": {
        "id": "2H-3z-TdaSi6"
      },
      "source": [
        "There are 8 professions in the dataset. This is clearly not a random selection of the UK population, with the high proportion of farmers for example, so presumably the insurance company targets specific parts of the population that are overrepresented here."
      ]
    },
    {
      "cell_type": "markdown",
      "metadata": {
        "id": "xyZKRoSKbhL-"
      },
      "source": [
        "### Numerical variables"
      ]
    },
    {
      "cell_type": "markdown",
      "metadata": {
        "id": "K_ZI-jK7bjlZ"
      },
      "source": [
        "There are 2 numerical variables: age and contract sum. In theory both could be *continuous*: age increases constantly, and contract sum could be measured in pennies or fractions of pennies per year (at least in wholesale insurance). In practice both are measured with a minimum unit so could be considered *discrete*. In the data exploration section we also grouped *age* into 3 buckets, which converts it into an *ordered categorical* variable.\n",
        "\n",
        "We begin by visualising the numerical variables as a **histogram**. This is similar to bar charts as above, so have the same advantages of being easy to interpret, but also show the x-axis on an ordered scale."
      ]
    },
    {
      "cell_type": "code",
      "metadata": {
        "id": "P8ykG3U2cvQT",
        "colab": {
          "base_uri": "https://localhost:8080/",
          "height": 295
        },
        "outputId": "0b504cfb-f5b8-44bf-940e-7c530e6c7486"
      },
      "source": [
        "# Age as histogram\n",
        "binNumber = int(np.max(df.Age))\n",
        "\n",
        "plt.figure()\n",
        "plt.hist(df.Age, bins=binNumber)\n",
        "plt.title('Distribution of ages')\n",
        "plt.xlabel('Age')\n",
        "plt.ylabel('Count')\n",
        "plt.show()"
      ],
      "execution_count": 15,
      "outputs": [
        {
          "output_type": "display_data",
          "data": {
            "image/png": "[encoded data removed]",
            "text/plain": [
              "<Figure size 432x288 with 1 Axes>"
            ]
          },
          "metadata": {
            "tags": [],
            "needs_background": "light"
          }
        }
      ]
    },
    {
      "cell_type": "markdown",
      "metadata": {
        "id": "8EQ6kcy10yhH"
      },
      "source": [
        "This histogram shows that ages are distributed roughly in a bell curve. There is however a large dip at around 50 years old. It is not obvious what causes this dip, and it would be interesting to know. One possibility is that this shape can be explained as the combination of two separate distributions, with a centre roughly at 40 and 58 respectively - in the same way a distribution of human height may show a central dip, because it can be split into a distribution of women and men with different means."
      ]
    },
    {
      "cell_type": "code",
      "metadata": {
        "colab": {
          "base_uri": "https://localhost:8080/",
          "height": 743
        },
        "id": "IBITyxhb5UmD",
        "outputId": "e5669790-e533-4c05-e28e-7d8e238ba485"
      },
      "source": [
        "# Plot age density by product type\n",
        "f, axes = plt.subplots(2, 2, figsize=(11, 9), sharex=True)\n",
        "sns.distplot( df[\"Age\"][df.Product == \"Life\"] , color=\"blue\", ax=axes[0, 0]).set_title('Life insurance')\n",
        "sns.distplot( df[\"Age\"][df.Product == \"Health\"] , color=\"red\", ax=axes[0, 1]).set_title('Health insurance')\n",
        "sns.distplot( df[\"Age\"][df.Product == \"Car\"] , color=\"green\", ax=axes[1, 0]).set_title('Car insurance')\n",
        "sns.distplot( df[\"Age\"][df.Product == \"Household\"] , color=\"teal\", ax=axes[1, 1]).set_title('Household insurance')"
      ],
      "execution_count": 16,
      "outputs": [
        {
          "output_type": "stream",
          "text": [
            "/usr/local/lib/python3.6/dist-packages/seaborn/distributions.py:2551: FutureWarning: `distplot` is a deprecated function and will be removed in a future version. Please adapt your code to use either `displot` (a figure-level function with similar flexibility) or `histplot` (an axes-level function for histograms).\n",
            "  warnings.warn(msg, FutureWarning)\n",
            "/usr/local/lib/python3.6/dist-packages/seaborn/distributions.py:2551: FutureWarning: `distplot` is a deprecated function and will be removed in a future version. Please adapt your code to use either `displot` (a figure-level function with similar flexibility) or `histplot` (an axes-level function for histograms).\n",
            "  warnings.warn(msg, FutureWarning)\n",
            "/usr/local/lib/python3.6/dist-packages/seaborn/distributions.py:2551: FutureWarning: `distplot` is a deprecated function and will be removed in a future version. Please adapt your code to use either `displot` (a figure-level function with similar flexibility) or `histplot` (an axes-level function for histograms).\n",
            "  warnings.warn(msg, FutureWarning)\n",
            "/usr/local/lib/python3.6/dist-packages/seaborn/distributions.py:2551: FutureWarning: `distplot` is a deprecated function and will be removed in a future version. Please adapt your code to use either `displot` (a figure-level function with similar flexibility) or `histplot` (an axes-level function for histograms).\n",
            "  warnings.warn(msg, FutureWarning)\n"
          ],
          "name": "stderr"
        },
        {
          "output_type": "execute_result",
          "data": {
            "text/plain": [
              "Text(0.5, 1.0, 'Household insurance')"
            ]
          },
          "metadata": {
            "tags": []
          },
          "execution_count": 16
        },
        {
          "output_type": "display_data",
          "data": {
            "image/png": "[encoded data removed]",
            "text/plain": [
              "<Figure size 792x648 with 4 Axes>"
            ]
          },
          "metadata": {
            "tags": [],
            "needs_background": "light"
          }
        }
      ]
    },
    {
      "cell_type": "markdown",
      "metadata": {
        "id": "ZWxyo0tdTPyE"
      },
      "source": [
        "The faceted histograms show distribution across the different insurance types. This is easier to view than overlapping histograms.\n",
        "\n",
        "In this case, all 4 histograms show a dip around age 50, suggesting that the dip in the combined histogram is *not* caused by a combination of different distributions - at least, not when divided by insurance type.\n",
        "\n",
        "The most notable finding here is that health insurance is taken out by a wider age range than the other insurance types."
      ]
    },
    {
      "cell_type": "markdown",
      "metadata": {
        "id": "zRORdk9O13YK"
      },
      "source": [
        "We now move on to look at the distribution of contract sums."
      ]
    },
    {
      "cell_type": "code",
      "metadata": {
        "id": "fIXxHDZMea7v",
        "colab": {
          "base_uri": "https://localhost:8080/",
          "height": 301
        },
        "outputId": "9c005377-b198-4f16-b363-98ac9d6a3fd8"
      },
      "source": [
        "# Contract sum as histogram\n",
        "plt.figure()\n",
        "plt.hist(df['Contract sum'], bins=80)\n",
        "plt.title('Distribution of contract sums')\n",
        "plt.xlabel('Contract sum (currency units)')\n",
        "plt.ylabel('Bin frequency')\n",
        "plt.show()"
      ],
      "execution_count": 36,
      "outputs": [
        {
          "output_type": "display_data",
          "data": {
            "image/png": "[encoded data removed]",
            "text/plain": [
              "<Figure size 432x288 with 1 Axes>"
            ]
          },
          "metadata": {
            "tags": []
          }
        }
      ]
    },
    {
      "cell_type": "markdown",
      "metadata": {
        "id": "7R2syyxQ2DkR"
      },
      "source": [
        "In the descriptive statistics section above, we identified the median (50th percentile) as 20,000; the 75th percentile as 33,000; and the maximum as 425,000. Therefore it is no surprise to see the histogram with most values towards the left of the distribution and a long right-hand tail, similar to the **Poisson distribution**."
      ]
    },
    {
      "cell_type": "code",
      "metadata": {
        "colab": {
          "base_uri": "https://localhost:8080/",
          "height": 284
        },
        "id": "NAjwOOrGS05z",
        "outputId": "7049b9f4-1551-442e-dfe4-b727b2d550ad"
      },
      "source": [
        "# Box plot\n",
        "plt.boxplot(df['Contract sum'], showfliers=False)\n",
        "plt.title('Distribution of contract sums, boxplot')\n",
        "plt.ylabel('Contract sum (currency units)')\n",
        "plt.show()"
      ],
      "execution_count": 38,
      "outputs": [
        {
          "output_type": "display_data",
          "data": {
            "image/png": "[encoded data removed]",
            "text/plain": [
              "<Figure size 432x288 with 1 Axes>"
            ]
          },
          "metadata": {
            "tags": []
          }
        }
      ]
    },
    {
      "cell_type": "markdown",
      "metadata": {
        "id": "rAnCxJYqU-t2"
      },
      "source": [
        "The graph above shows the same data plotted as a boxplot, with clear visualisation of the median, interquartile range, and \"minimum\" and \"maximum\" - but not the true minimum and maximum, but rather the quartiles plus and minus 1.5 x the interquartile range. Outliers are not shown for clarity."
      ]
    },
    {
      "cell_type": "markdown",
      "metadata": {
        "id": "ZiaXu8FFveZu"
      },
      "source": [
        "## Conclusions"
      ]
    },
    {
      "cell_type": "markdown",
      "metadata": {
        "id": "K6bN2OuHY1GJ"
      },
      "source": [
        "In this paper we have conducted an initial exploration of the dataset. We have examined the data quality of the dataset and described the variables statistically, and through graphics. Further analysis could explore the relationships between the variables more closely, for example asking how contract sum varies according to age, specifically for farmers from a certain region.\n",
        "\n",
        "Subject to the objectives of any further analysis, it might be desirable to construct a more **up-to-date** dataset with a wider range of attributes, plus a clear **data dictionary**. We can use the current attributes to compare the consumer profiles across different insurance products. However, to gain insights and draw applicable conclusions on each project, a more granular level of data is required. For example, pricing health insurance is linked to people's health conditions, while the insurance company would be more interested in people's driving behaviours when pricing car insurance.  \n",
        "\n",
        "Moving beyond descriptive statistics and graphics, further analysis could model the data as a **supervised learning** problem, predicting contract sum based on the attributes. There are many techniques for this, for example producing a decision tree."
      ]
    }
  ]
}